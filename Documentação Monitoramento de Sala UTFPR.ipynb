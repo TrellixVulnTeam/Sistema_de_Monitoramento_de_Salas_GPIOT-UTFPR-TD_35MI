{
 "cells": [
  {
   "cell_type": "markdown",
   "metadata": {
    "deletable": true,
    "editable": true
   },
   "source": [
    "# Documentação Projeto Monitoramento de Saltas e Labs\n"
   ]
  },
  {
   "cell_type": "markdown",
   "metadata": {
    "deletable": true,
    "editable": true
   },
   "source": [
    "## Grupo de Pesquisa de IoT da UTFPR-TD\n",
    "### Participantes: \n",
    "- Juan Manoel (Eng Computação) \n",
    "- Debora Rodrigues (Eng Eletronica) \n",
    "\n",
    "## Problematica: \n",
    "Condições Pertinentes\n",
    "\n",
    "* Se janela esta aberta na sala, pode chover e molhar o ambiente\n",
    "* Se luz estiver ligada e não tiver ninguem usando é um gasto maior\n",
    "* Se tem ou não tem pessoas na salas.\n",
    "\n",
    "## Objetivo\n",
    "* Monitorar o Ambiente com base nos parementros da problematica\n",
    "\n",
    "## Prototipos \n",
    "* Construir uma dashboard para ler os dados salvos do IoT(feito/descontinuado)\n",
    "\n",
    "* Prototipar um IoT com switch para ler status:\n",
    "#### SENSOR porta   (Completo)\n",
    "O Sensor foi feito para checagem de status se porta aberta ou não, foi feito usando a placa de prototipação \"nodemcu\" com o microcontrolador esp12E, com o objetivo de ler o status da porta digital D2, para caso receber valor 0 enviar status de \"aberto\" e 1 para \"fechado\", apartir dessa informação saber se porta consta aberta ou não de determinada sala em ambiente de experimento. Durante a operação foi utilizado um topico para envio da mensagem do IoT com os dados de status, tipo de dispositivo e local de onde encontra-se operante.\n",
    "\n",
    "<code>#define TOPICO     \"home/sala/porta/01/status/\" //  IoT Porta</code>\n",
    "\n",
    "A Eletronica usada nesse projeto consta com um resistor, um switcher e uma protoboard para tests durante o experimento.\n",
    " \n",
    "![Banana](./EletronicaDesenhos/SensorDeJanela_bb.png)\n",
    "\n",
    " ---\n",
    "\n",
    "\n",
    "#### SENSOR janela (COMPLETO)\n",
    "Com a Eletronica do sensor de porta  visto acima, foi observado que poderia ser utilizado tambem para sensorial outros locais, como janela visto que o trinco da janela é apenas um Aberto/Fechado a diferença aqui foi no topico \n",
    "<code> #define TOPICO         \"home/sala/janela/01/status/\" //  IoT Windows. </code>\n",
    "\n",
    "---\n",
    "\n",
    "#### SENSOR de luz (COMPLETO)\n",
    "o Sensor de luz é composto de um LDR para recebimento dos dados de luminosidade e processados na porta A0 do nodemcu, com essa informação é possivel saber se as luzes da sala em experimento estão ligadas ou não. Esses dados são enviados via mqtt pelo topico:\n",
    "<code>#define TOPICO         \"home/sala/luminosidade/01/status/\" </code>\n",
    "O layout da eletronica e prototipação ficaram dessa forma.\n",
    "![de](./EletronicaDesenhos/SensorLuminosidade.png)\n",
    "### Observações importantes: \n",
    "<br>\n",
    "1. Amostra Ideal: E importante resaltar que todos os testes foram feito com o sensor de luminosidade em uma distancia de 10 cm de distancia de uma lampada, para não ter tanto ruido, isso permite saber o grau de luminosidade extremamente alto visto que estamos medindo extremamente perto do ativo luminoso.\n",
    "\n",
    "2. Ruido Amostral: Caso o test seja feito em ambiente normalmente claro, uma saida de falso positivo e enviado para o servidor gerando uma leitura falsa de que \"há\" um gasto de energia inexistente visto que o sensor esta lendo luminosidade ambiente é não eletronica.\n",
    "\n",
    "---\n",
    "##### SENSOR de movimento(FEITO)\n",
    "1. Teste com sensores de passagem. \n",
    "Sensor de movimento permite saber se sala esta com pessoas USANDO sensores de passagem, neste experimento foi utilizado 2 sensores ultrasonicos para saber qual sentido esta recebendo a entrada. \n",
    "Em laboratorio foi testado, com os seguintes sensores. \n",
    "Observe o seguinte caso. \n",
    "_______________________________\n",
    "| Sensores | Valores | STATUS |\n",
    "| ---------- | -------| ------ |\n",
    "| Ultrasom 1 |  S1 | HIGH  | \n",
    "| Ultrasom 2 |  S2  | LOW   | \n",
    "\n",
    "Se sensor 1 for \"HIGH\" e sensor 2 for LOW temos a \"entrada\" que representa a entrada de uma pessoa no ambiente com isso permite fazer um simples contador para saber há quantidade de pessoas que entraram na sala.\n",
    "Portanto nesse momento o sistema passa a aguardar possiveis entradas e passa tambem há aguardar as possiveis saidas.\n",
    "_______________________________\n",
    "| Sensores | Valores | STATUS |\n",
    "| ---------- | -------| ------ |\n",
    "| Ultrasom 1 |  S1 | LOW  | \n",
    "| Ultrasom 2 |  S2  | HIGH   | \n",
    "\n",
    "Se Sensor 1 for LOW e Sensor 2 for HIGH, o despositivo passa a entender que existe uma saida do ambiente.\n",
    "* Design da prototipação.\n",
    "\n",
    "![pijamas](./EletronicaDesenhos/SensorDePassagem_bb.png)\n",
    "\n",
    "2. Teste com detecção de faces com Classificadores\n",
    "\n",
    "\n",
    "\n",
    "## ETAPAS\n",
    "  \n",
    "  * Prototipação do Sensores e Sincronização via MQTT\n",
    "  * Sincronização com MQTT usando Broker Local(Notebook)\n",
    "  * Geração de Logs em CSV\n",
    "  * Leitura de Logs para Visualização via WebApp com Flask\n",
    "  * Start microservices para Data Viewer"
   ]
  },
  {
   "cell_type": "markdown",
   "metadata": {
    "deletable": true,
    "editable": true
   },
   "source": [
    "\n",
    "## DashBoard de Monitoramento de Status de janela\n",
    "<br>\n",
    "\n",
    "![Banana](luminosidade.png)\n",
    "\n",
    "\n",
    "## Atuador(extra)\n",
    "Quando tiver chovendo ou começando a chover, detector chuva AND tem alguem na sala avisa na sala para fechar janela\n",
    "\n",
    "## Tutorial Start Projetct !\n",
    "\n",
    "\n",
    "[![Tutorial](./tutorial/4term.png)](https://www.youtube.com/watch?v=HmgL5kCg-3Y \"Tutorial\")\n",
    "\n",
    "\n",
    "## Link Referencia\n",
    "\n",
    "https://pastebin.com/Qx07Q0Gz\n",
    "\n",
    "\n",
    "## Questões Levantadas (topicos)\n",
    "\n",
    "* Sensor Passagem\n",
    "* Gravar Filtro Inteligente Ruido\n",
    "* Tem Gente na Sala\n",
    "* Sensor Otico\n",
    "* Investiar \n",
    "* Ultrasom \n",
    "* Otico\n",
    "* IR\n"
   ]
  },
  {
   "cell_type": "code",
   "execution_count": null,
   "metadata": {
    "collapsed": true,
    "deletable": true,
    "editable": true
   },
   "outputs": [],
   "source": []
  }
 ],
 "metadata": {
  "kernelspec": {
   "display_name": "Python 2",
   "language": "python",
   "name": "python2"
  },
  "language_info": {
   "codemirror_mode": {
    "name": "ipython",
    "version": 2
   },
   "file_extension": ".py",
   "mimetype": "text/x-python",
   "name": "python",
   "nbconvert_exporter": "python",
   "pygments_lexer": "ipython2",
   "version": "2.7.15rc1"
  }
 },
 "nbformat": 4,
 "nbformat_minor": 2
}
