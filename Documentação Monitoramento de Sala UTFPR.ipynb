{
 "cells": [
  {
   "cell_type": "markdown",
   "metadata": {},
   "source": [
    "# Documentação Projeto Monitoramento de Salas e Labs\n"
   ]
  },
  {
   "cell_type": "markdown",
   "metadata": {},
   "source": [
    "## Grupo de Pesquisa de IoT da UTFPR-TD\n",
    "### Participantes do projeto: \n",
    "- Juan Manoel (Eng Computação) \n",
    "- Debora Rodrigues (Eng Eletronica) \n",
    "\n",
    "## Problematica: \n",
    "Condições Pertinentes\n",
    "\n",
    "* Se a janela da sala esta aberta, então pode chover e molhar o ambiente.\n",
    "* Se a luz estiver ligada e não ninguém estiver usando é um gasto maior.\n",
    "* Se tem ou não tem pessoas na salas.\n",
    "\n",
    "## Objetivo\n",
    "* Monitorar o Ambiente com base nos parâmentros da problemática\n",
    "\n",
    "## Prototipos \n",
    "* Construir uma dashboard para ler os dados salvos do IoT(feito/descontinuado)\n",
    "\n",
    "\n",
    "* Prototipar um IoT com switch para ler status:\n",
    "#### SENSOR porta   (COMPLETO)\n",
    "O Sensor foi feito para checagem de status se porta aberta ou não, foi feito usando a placa de prototipação \"nodemcu\" com o microcontrolador esp12E, com o objetivo de ler o status da porta digital D2, para caso receber valor 0 enviar status de \"aberto\" e 1 para \"fechado\", apartir dessa informação saber se porta consta aberta ou não de determinada sala em ambiente de experimento. Durante a operação foi utilizado um topico para envio da mensagem do IoT com os dados de status, tipo de dispositivo e local de onde encontra-se operante.\n",
    "\n",
    "<code>#define TOPICO     \"home/sala/porta/01/status/\" //  IoT Porta</code>\n",
    "\n",
    "A Eletronica usada nesse projeto consta com um resistor, um switcher e uma protoboard para tests durante o experimento.\n",
    " \n",
    "![Banana](./EletronicaDesenhos/SensorDeJanela_bb.png)\n",
    "\n",
    " ---\n",
    "\n",
    "\n",
    "#### SENSOR janela (COMPLETO)\n",
    "Com a Eletronica do sensor de porta  visto acima, foi observado que poderia ser utilizado tambem para sensorial outros locais, como janela visto que o trinco da janela é apenas um Aberto/Fechado a diferença aqui foi no topico \n",
    "<code> #define TOPICO         \"home/sala/janela/01/status/\" //  IoT Windows. </code>\n",
    "\n",
    "\n",
    "#### SENSOR de luz (COMPLETO)\n",
    "o Sensor de luz é composto de um LDR para recebimento dos dados de luminosidade e processados na porta A0 do nodemcu, com essa informação é possivel saber se as luzes da sala em experimento estão ligadas ou não. Esses dados são enviados via mqtt pelo topico:\n",
    "<code>#define TOPICO         \"home/sala/luminosidade/01/status/\" </code>\n",
    "O layout da eletronica e prototipação ficaram dessa forma.\n",
    "![de](./EletronicaDesenhos/SensorLuminosidade.png)\n",
    "### Observações importantes: \n",
    "<br>\n",
    "1. Amostra Ideal: E importante resaltar que todos os testes foram feito com o sensor de luminosidade em uma distancia de 10 cm de distancia de uma lampada, para não ter tanto ruido, isso permite saber o grau de luminosidade extremamente alto visto que estamos medindo extremamente perto do ativo luminoso.\n",
    "\n",
    "2. Ruido Amostral: Caso o test seja feito em ambiente normalmente claro, uma saida de falso positivo e enviado para o servidor gerando uma leitura falsa de que \"há\" um gasto de energia inexistente visto que o sensor esta lendo luminosidade ambiente é não eletronica.\n",
    "\n",
    "---\n",
    "### SENSOR de movimento(COMPLETO)\n",
    "####  Teste com sensores de passagem. \n",
    "\n",
    "- Sensor de movimento permite saber se sala esta com pessoas USANDO sensores de passagem, neste experimento foi utilizado 2 sensores ultrasonicos para saber qual sentido esta recebendo a entrada. Em laboratorio foi testado, com os seguintes sensores. Observe o seguinte caso. \n",
    "_______________________________\n",
    "| Sensores | Valores | STATUS |\n",
    "| ---------- | -------| ------ |\n",
    "| Ultrasom 1 |  S1 | HIGH  | \n",
    "| Ultrasom 2 |  S2  | LOW   | \n",
    "\n",
    "Se sensor 1 for \"HIGH\" e sensor 2 for LOW temos a \"entrada\" que representa a entrada de uma pessoa no ambiente com isso permite fazer um simples contador para saber há quantidade de pessoas que entraram na sala.\n",
    "Portanto nesse momento o sistema passa a aguardar possiveis entradas e passa tambem há aguardar as possiveis saidas.\n",
    "_______________________________\n",
    "| Sensores | Valores | STATUS |\n",
    "| ---------- | -------| ------ |\n",
    "| Ultrasom 1 |  S1 | LOW  | \n",
    "| Ultrasom 2 |  S2  | HIGH   | \n",
    "\n",
    "Se Sensor 1 for LOW e Sensor 2 for HIGH, o despositivo passa a entender que existe uma saida do ambiente.\n",
    "* Design da prototipação.\n",
    "\n",
    "![pijamas](./EletronicaDesenhos/SensorDePassagem_bb.png)\n",
    "\n",
    "#### Teste com detecção de faces com Classificadores\n",
    "\n",
    "- Com Detecção de face é possivel usar as cameras das salas para obter dados de imagem e aplicar classificadores estatisticos, comumentes conhecidos é ja utilizados na computação nas areas de visão computacional. O modelo usado foi o  haarcascade frontal face que consiste em um arquito xml, gerado a partir do treino de imagens positivas e negativas, positivas para imagems que com rostos na imagens e negativas para quais quer imagens que não seja rosto. Para demostração do modelo segue o gif abaixo.\n",
    "\n",
    "![descendo](./deteccaoface.gif)\n",
    "\n",
    "---\n",
    "\n",
    "\n",
    "### Arquitetura de Rede\n",
    "Para testes foi utilizado uma rede simplicada para monitoramento de ativos conectados. Semelhante a uma topologia de rede em estrela, com a adição posteriormente de dispositivos conectados.\n",
    "\n",
    "\n",
    "<td><img src=\"rede.png\"   width=\"840\" height=\"450\"/> </td>\n",
    "\n",
    "#### Descrição de cores\n",
    "\n",
    "* Cores:\n",
    " * Azul: Rede Antes dos Dipositivos\n",
    " * Verde: Rede Com dispositivos\n",
    "\n",
    "\n",
    "## ETAPAS\n",
    "  \n",
    "  * Prototipação do Sensores e Sincronização via MQTT\n",
    "  * Sincronização com MQTT usando Broker Local(Notebook)\n",
    "  * Geração de Logs em CSV\n",
    "  * Leitura de Logs para Visualização via WebApp com Flask\n",
    "  * Start microservices para Data Viewer"
   ]
  },
  {
   "cell_type": "markdown",
   "metadata": {},
   "source": [
    "\n",
    "## DashBoard de Monitoramento de Status de janela\n",
    "<br>\n",
    "\n",
    "![Banana](luminosidade.png)\n",
    "\n",
    "\n",
    "## Atuador(extra)\n",
    "Quando tiver chovendo ou começando a chover, detector chuva AND tem alguem na sala avisa na sala para fechar janela\n",
    "\n",
    "## Tutorial Start Projetct !\n",
    "\n",
    "\n",
    "[![Tutorial](./tutorial/4term.png)](https://www.youtube.com/watch?v=HmgL5kCg-3Y \"Tutorial\")\n",
    "\n",
    "\n",
    "## Link Referencia\n",
    "\n",
    "https://pastebin.com/Qx07Q0Gz\n",
    "\n",
    "\n",
    "## Questões Levantadas (topicos)\n",
    "\n",
    "* Sensor Passagem\n",
    "* Gravar Fil\n",
    "tro Inteligente Ruido\n",
    "* Tem Gente na Sala\n",
    "* Sensor Otico\n",
    "* Investigar \n",
    "* Ultrassom \n",
    "* Otico\n",
    "* IR\n"
   ]
  },
  {
   "cell_type": "markdown",
   "metadata": {
    "collapsed": true
   },
   "source": [
    "## Materiais utilizados \n",
    "\n",
    "janelajanela\n",
    "https://docs.google.com/spreadsheets/d/1hW7e1_I0sRVcH0C7uBwQ5KxLtKKDjPeK2juV-XhU_1g/edit?usp=sharing"
   ]
  },
  {
   "cell_type": "markdown",
   "metadata": {},
   "source": [
    "--- "
   ]
  },
  {
   "cell_type": "markdown",
   "metadata": {
    "collapsed": true
   },
   "source": [
    "# Versão 1.1(Usando ThingsBoard)"
   ]
  },
  {
   "cell_type": "markdown",
   "metadata": {},
   "source": [
    "#### A Thingsboard "
   ]
  },
  {
   "cell_type": "markdown",
   "metadata": {},
   "source": [
    " \"O ThingsBoard é uma plataforma de IoT de código aberto para coleta de dados, processamento, visualização e gerenciamento de dispositivos.\n",
    "\n",
    "Ele permite a conectividade de dispositivos por meio de protocolos de IoT padrão do setor - MQTT, CoAP e HTTP, além de suportar implantações na nuvem e no local. O ThingsBoard combina escalabilidade, tolerância a falhas e desempenho para que você nunca perca seus dados.\" "
   ]
  },
  {
   "cell_type": "markdown",
   "metadata": {},
   "source": [
    "### Equimantos Utilizados no Laboratorio\n",
    "\n",
    "#### Sensores\n",
    "* Modulo Sensor LDR\n",
    "* Modulo Sensor de Presença\n",
    "\n",
    "#### Microcontrolador/Mini PC\n",
    "* esp8266-12E(Nodemcu)\n",
    "* Raspberry Pi Zero W\n",
    "\n",
    "#### Cameras\n",
    "* Kinect XBOX 260 USB\n",
    "* WebCam USB\n",
    "\n"
   ]
  },
  {
   "cell_type": "markdown",
   "metadata": {},
   "source": [
    "##  Sensor de Luminosidade \n",
    "### Eletronica \n",
    "![Imgs](light-sensor_bb.png)\n",
    "\n",
    "- https://github.com/juanengml/Sistema_de_Monitoramento_de_Salas_GPIOT-UTFPR-TD/blob/master/CodeIoT/Sensor%20de%20Luminosidade/Sensor_de_Luminosidade.ino\n",
    "\n",
    "##  Sensor de Presença\n",
    "### Eletronica \n",
    "\n",
    "<img src=\"Sensor PIR_bb.png\" style=\"transform:rotate(90deg);\"  height=\"450\" width=\"350\"> \n",
    " \n",
    " \n",
    "- https://github.com/juanengml/Sistema_de_Monitoramento_de_Salas_GPIOT-UTFPR-TD/blob/master/CodeIoT/sensor_presenca/sensor_presenca.ino/sensor_presenca.ino.ino\n",
    "\n",
    "\n",
    "\n"
   ]
  }
 ],
 "metadata": {
  "kernelspec": {
   "display_name": "Python 2",
   "language": "python",
   "name": "python2"
  },
  "language_info": {
   "codemirror_mode": {
    "name": "ipython",
    "version": 2
   },
   "file_extension": ".py",
   "mimetype": "text/x-python",
   "name": "python",
   "nbconvert_exporter": "python",
   "pygments_lexer": "ipython2",
   "version": "2.7.15rc1"
  }
 },
 "nbformat": 4,
 "nbformat_minor": 2
}
