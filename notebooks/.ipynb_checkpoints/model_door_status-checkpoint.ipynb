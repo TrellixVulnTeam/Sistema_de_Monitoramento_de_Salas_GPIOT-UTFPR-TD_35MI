{
 "cells": [
  {
   "cell_type": "markdown",
   "metadata": {
    "colab_type": "text",
    "id": "hGwSKL449pFY"
   },
   "source": [
    "## Preparando dados"
   ]
  },
  {
   "cell_type": "code",
   "execution_count": 0,
   "metadata": {
    "colab": {},
    "colab_type": "code",
    "id": "7SQjlHRsuJDA"
   },
   "outputs": [],
   "source": [
    "!pip install -q keras\n",
    "!pip install -q tqdm\n",
    "!apt-get -qq install -y libsm6 libxext6 && pip install -q -U opencv-python"
   ]
  },
  {
   "cell_type": "code",
   "execution_count": 36,
   "metadata": {
    "colab": {
     "base_uri": "https://localhost:8080/",
     "height": 34
    },
    "colab_type": "code",
    "id": "IHHX4TnWvMGD",
    "outputId": "fea41575-9e2d-4c05-c434-a2269f0fc0af"
   },
   "outputs": [
    {
     "name": "stdout",
     "output_type": "stream",
     "text": [
      "E: Package 'python-software-properties' has no installation candidate\n"
     ]
    }
   ],
   "source": [
    "!sudo apt-get install -y -qq software-properties-common python-software-properties module-init-tools\n",
    "!sudo add-apt-repository -y ppa:alessandro-strada/ppa 2>&1 > /dev/null\n",
    "!sudo apt-get update -qq 2>&1 > /dev/null\n",
    "!sudo apt-get -y install -qq google-drive-ocamlfuse fuse"
   ]
  },
  {
   "cell_type": "code",
   "execution_count": 38,
   "metadata": {
    "colab": {
     "base_uri": "https://localhost:8080/",
     "height": 34
    },
    "colab_type": "code",
    "id": "KwB6B2lIwQHb",
    "outputId": "3f8b0a95-251c-4968-e029-37cc219c1191"
   },
   "outputs": [
    {
     "name": "stdout",
     "output_type": "stream",
     "text": [
      "test  train\n"
     ]
    }
   ],
   "source": [
    "!ls"
   ]
  },
  {
   "cell_type": "code",
   "execution_count": 0,
   "metadata": {
    "colab": {},
    "colab_type": "code",
    "id": "o1HAspCcxzYJ"
   },
   "outputs": [],
   "source": [
    "#from google.colab import drive\n",
    "#drive.mount('/content/drive')"
   ]
  },
  {
   "cell_type": "code",
   "execution_count": 34,
   "metadata": {
    "colab": {
     "base_uri": "https://localhost:8080/",
     "height": 34
    },
    "colab_type": "code",
    "id": "kxobd9cEnEp-",
    "outputId": "ff486a69-c56e-4255-dd43-55997f5dff83"
   },
   "outputs": [
    {
     "name": "stdout",
     "output_type": "stream",
     "text": [
      "test  train\n"
     ]
    }
   ],
   "source": [
    "!ls "
   ]
  },
  {
   "cell_type": "code",
   "execution_count": 0,
   "metadata": {
    "colab": {},
    "colab_type": "code",
    "id": "ZH1kjR-WaWGn"
   },
   "outputs": [],
   "source": []
  },
  {
   "cell_type": "code",
   "execution_count": 0,
   "metadata": {
    "colab": {},
    "colab_type": "code",
    "id": "MV3rGlyzxvVl"
   },
   "outputs": [],
   "source": [
    "#!mkdir \"drive/My Drive/images\""
   ]
  },
  {
   "cell_type": "code",
   "execution_count": 0,
   "metadata": {
    "colab": {},
    "colab_type": "code",
    "id": "Iyv7unbHyHj5"
   },
   "outputs": [],
   "source": [
    "from os import chdir"
   ]
  },
  {
   "cell_type": "code",
   "execution_count": 0,
   "metadata": {
    "colab": {},
    "colab_type": "code",
    "id": "NXQobFajFR46"
   },
   "outputs": [],
   "source": [
    "chdir(\"../dataset/\")"
   ]
  },
  {
   "cell_type": "code",
   "execution_count": 2,
   "metadata": {
    "colab": {},
    "colab_type": "code",
    "id": "9XwC-tx_FR4-",
    "outputId": "ea347469-7974-4218-f882-02247533eab1"
   },
   "outputs": [
    {
     "name": "stdout",
     "output_type": "stream",
     "text": [
      "models\tsplit_frame.py\ttest  train  videos\r\n"
     ]
    }
   ],
   "source": [
    "!ls ../dataset/"
   ]
  },
  {
   "cell_type": "code",
   "execution_count": 0,
   "metadata": {
    "colab": {},
    "colab_type": "code",
    "id": "Q0jlZQTAy0ky"
   },
   "outputs": [],
   "source": [
    "from IPython.display import Image"
   ]
  },
  {
   "cell_type": "code",
   "execution_count": 39,
   "metadata": {
    "colab": {
     "base_uri": "https://localhost:8080/",
     "height": 357
    },
    "colab_type": "code",
    "id": "M7gwatYvgVz_",
    "outputId": "7ef5a472-19d4-45c2-b971-23431b82fb81"
   },
   "outputs": [
    {
     "name": "stdout",
     "output_type": "stream",
     "text": [
      "frame100.jpg  frame120.jpg  frame140.jpg  frame160.jpg\tframe80.jpg\n",
      "frame101.jpg  frame121.jpg  frame141.jpg  frame161.jpg\tframe81.jpg\n",
      "frame102.jpg  frame122.jpg  frame142.jpg  frame162.jpg\tframe82.jpg\n",
      "frame103.jpg  frame123.jpg  frame143.jpg  frame163.jpg\tframe83.jpg\n",
      "frame104.jpg  frame124.jpg  frame144.jpg  frame164.jpg\tframe84.jpg\n",
      "frame105.jpg  frame125.jpg  frame145.jpg  frame165.jpg\tframe85.jpg\n",
      "frame106.jpg  frame126.jpg  frame146.jpg  frame166.jpg\tframe86.jpg\n",
      "frame107.jpg  frame127.jpg  frame147.jpg  frame167.jpg\tframe87.jpg\n",
      "frame108.jpg  frame128.jpg  frame148.jpg  frame168.jpg\tframe88.jpg\n",
      "frame109.jpg  frame129.jpg  frame149.jpg  frame169.jpg\tframe89.jpg\n",
      "frame110.jpg  frame130.jpg  frame150.jpg  frame170.jpg\tframe90.jpg\n",
      "frame111.jpg  frame131.jpg  frame151.jpg  frame71.jpg\tframe91.jpg\n",
      "frame112.jpg  frame132.jpg  frame152.jpg  frame72.jpg\tframe92.jpg\n",
      "frame113.jpg  frame133.jpg  frame153.jpg  frame73.jpg\tframe93.jpg\n",
      "frame114.jpg  frame134.jpg  frame154.jpg  frame74.jpg\tframe94.jpg\n",
      "frame115.jpg  frame135.jpg  frame155.jpg  frame75.jpg\tframe95.jpg\n",
      "frame116.jpg  frame136.jpg  frame156.jpg  frame76.jpg\tframe96.jpg\n",
      "frame117.jpg  frame137.jpg  frame157.jpg  frame77.jpg\tframe97.jpg\n",
      "frame118.jpg  frame138.jpg  frame158.jpg  frame78.jpg\tframe98.jpg\n",
      "frame119.jpg  frame139.jpg  frame159.jpg  frame79.jpg\tframe99.jpg\n"
     ]
    }
   ],
   "source": [
    "!ls train/porta_aberta/"
   ]
  },
  {
   "cell_type": "code",
   "execution_count": 42,
   "metadata": {
    "colab": {
     "base_uri": "https://localhost:8080/",
     "height": 497
    },
    "colab_type": "code",
    "id": "zhqj1O8Jy6CN",
    "outputId": "d093ecef-02aa-4c67-bc4f-1f128fce8eba"
   },
   "outputs": [
    {
     "data": {
      "image/jpeg": "[encoded data removed]",
      "text/plain": [
       "<IPython.core.display.Image object>"
      ]
     },
     "execution_count": 42,
     "metadata": {
      "tags": []
     },
     "output_type": "execute_result"
    }
   ],
   "source": [
    "Image(\"train/porta_aberta/frame120.jpg\")"
   ]
  },
  {
   "cell_type": "markdown",
   "metadata": {
    "colab_type": "text",
    "id": "IjdzZYHi9wIR"
   },
   "source": [
    "---\n",
    "\n",
    "## Importando bibliotecas e frameworks"
   ]
  },
  {
   "cell_type": "code",
   "execution_count": 0,
   "metadata": {
    "colab": {},
    "colab_type": "code",
    "id": "kz6gJtjV9lsS"
   },
   "outputs": [],
   "source": [
    "from __future__ import print_function, division\n",
    "import numpy as np\n",
    "import random\n",
    "import os\n",
    "import glob\n",
    "# https://opencv.org/\n",
    "import cv2\n",
    "import datetime\n",
    "import pandas as pd\n",
    "import time\n",
    "import h5py\n",
    "import csv\n",
    "from sklearn.model_selection import KFold, train_test_split\n",
    "from sklearn.metrics import log_loss, confusion_matrix\n",
    "from sklearn.utils import shuffle\n",
    "from PIL import Image, ImageChops, ImageOps\n",
    "import matplotlib.pyplot as plt\n",
    "from keras import backend as K\n",
    "from keras.callbacks import EarlyStopping, Callback\n",
    "from keras.utils import np_utils\n",
    "from keras.preprocessing.image import ImageDataGenerator, load_img, img_to_array\n",
    "from keras import optimizers\n",
    "from keras.models import Sequential, model_from_json\n",
    "from keras.layers import Convolution2D, MaxPooling2D, ZeroPadding2D, Activation, Dropout, Flatten, Dense"
   ]
  },
  {
   "cell_type": "code",
   "execution_count": 0,
   "metadata": {
    "colab": {},
    "colab_type": "code",
    "id": "ZYhRLQtg_pXk"
   },
   "outputs": [],
   "source": [
    "from keras.models import Sequential\n",
    "from keras.layers import Conv2D\n",
    "from keras.layers import MaxPooling2D\n",
    "from keras.layers import Flatten\n",
    "from keras.layers import Dense\n"
   ]
  },
  {
   "cell_type": "markdown",
   "metadata": {
    "colab_type": "text",
    "id": "H6xpDuVTh4AN"
   },
   "source": [
    "## Criando Modelo"
   ]
  },
  {
   "cell_type": "code",
   "execution_count": 0,
   "metadata": {
    "colab": {},
    "colab_type": "code",
    "id": "x6xupIoZ94cr"
   },
   "outputs": [],
   "source": [
    "clf = Sequential()\n",
    "clf.add(Conv2D(32, (3, 3), input_shape=(64, 64, 3), activation=\"relu\"))\n",
    "clf.add(MaxPooling2D(pool_size = (2, 2)))\n",
    "clf.add(Conv2D(32, (3, 3), activation = 'relu'))\n",
    "clf.add(MaxPooling2D(pool_size = (2, 2)))\n",
    "clf.add(Flatten())\n",
    "clf.add(Dense(activation=\"relu\", units=128))\n",
    "clf.add(Dense(activation=\"sigmoid\", units=1))\n",
    "clf.compile(optimizer = 'adam', loss = 'binary_crossentropy', metrics = ['accuracy'])"
   ]
  },
  {
   "cell_type": "markdown",
   "metadata": {
    "colab_type": "text",
    "id": "fOSLBORCiF-3"
   },
   "source": [
    "## Definindo treino e teste"
   ]
  },
  {
   "cell_type": "code",
   "execution_count": 46,
   "metadata": {
    "colab": {
     "base_uri": "https://localhost:8080/",
     "height": 51
    },
    "colab_type": "code",
    "id": "p75ebTW_iE76",
    "outputId": "d1a4304c-f2f1-4d55-a306-311a45f806ea"
   },
   "outputs": [
    {
     "name": "stdout",
     "output_type": "stream",
     "text": [
      "Found 170 images belonging to 2 classes.\n",
      "Found 170 images belonging to 2 classes.\n"
     ]
    }
   ],
   "source": [
    "from keras.preprocessing.image import ImageDataGenerator\n",
    "\n",
    "traino_data_gen = ImageDataGenerator(rescale = 1./255,\n",
    "                                   shear_range = 0.2,\n",
    "                                   zoom_range = 0.2,\n",
    "                                   horizontal_flip = True)\n",
    "\n",
    "test_dataset = ImageDataGenerator(rescale = 1./255)\n",
    "\n",
    "treino_dataset = traino_data_gen.flow_from_directory('./train',\n",
    "                                                 target_size = (64, 64),\n",
    "                                                 batch_size = 32,\n",
    "                                                 class_mode = 'binary')\n",
    "\n",
    "test_data = test_dataset.flow_from_directory('./test',\n",
    "                                            target_size = (64, 64),\n",
    "                                            batch_size = 32,\n",
    "                                            class_mode = 'binary')\n",
    "\n"
   ]
  },
  {
   "cell_type": "markdown",
   "metadata": {
    "colab_type": "text",
    "id": "7NN6h_h8iEA_"
   },
   "source": [
    "## Treinando modelo"
   ]
  },
  {
   "cell_type": "code",
   "execution_count": 47,
   "metadata": {
    "colab": {
     "base_uri": "https://localhost:8080/",
     "height": 224
    },
    "colab_type": "code",
    "id": "zCtez-qx_YOE",
    "outputId": "6631435e-4711-43a3-bfa2-c4831b49cabc"
   },
   "outputs": [
    {
     "name": "stdout",
     "output_type": "stream",
     "text": [
      "Epoch 1/5\n",
      "200/200 [==============================] - 67s 337ms/step - loss: 0.0655 - acc: 0.9730 - val_loss: 0.0107 - val_acc: 0.9942\n",
      "Epoch 2/5\n",
      "200/200 [==============================] - 66s 331ms/step - loss: 0.0054 - acc: 0.9984 - val_loss: 5.2954e-04 - val_acc: 1.0000\n",
      "Epoch 3/5\n",
      "200/200 [==============================] - 67s 335ms/step - loss: 0.0036 - acc: 0.9994 - val_loss: 3.0509e-04 - val_acc: 1.0000\n",
      "Epoch 4/5\n",
      "200/200 [==============================] - 66s 331ms/step - loss: 0.0138 - acc: 0.9945 - val_loss: 0.0339 - val_acc: 0.9882\n",
      "Epoch 5/5\n",
      "200/200 [==============================] - 66s 331ms/step - loss: 0.0021 - acc: 0.9992 - val_loss: 1.0351e-04 - val_acc: 1.0000\n"
     ]
    },
    {
     "data": {
      "text/plain": [
       "<keras.callbacks.History at 0x7f8bfd3b9b00>"
      ]
     },
     "execution_count": 47,
     "metadata": {
      "tags": []
     },
     "output_type": "execute_result"
    }
   ],
   "source": [
    "  clf.fit_generator(treino_dataset,\n",
    "                         steps_per_epoch = (200),\n",
    "                         epochs = 5,\n",
    "                         validation_data = test_data,\n",
    "                         validation_steps = 200)"
   ]
  },
  {
   "cell_type": "code",
   "execution_count": 0,
   "metadata": {
    "colab": {},
    "colab_type": "code",
    "id": "zZaeVvLDBxjx"
   },
   "outputs": [],
   "source": [
    "!mkdir models"
   ]
  },
  {
   "cell_type": "code",
   "execution_count": 50,
   "metadata": {
    "colab": {
     "base_uri": "https://localhost:8080/",
     "height": 34
    },
    "colab_type": "code",
    "id": "vcZ-EW9eA15d",
    "outputId": "5296dd82-277f-4293-94a8-84fe762a9894"
   },
   "outputs": [
    {
     "name": "stdout",
     "output_type": "stream",
     "text": [
      "Saved model to disk\n"
     ]
    }
   ],
   "source": [
    "# serialize model to JSON\n",
    "model_json = clf.to_json()\n",
    "with open(\"models/model.json\", \"w\") as json_file:\n",
    "    json_file.write(model_json)\n",
    "# serialize weights to HDF5\n",
    "clf.save_weights(\"models/model.h5\")\n",
    "print(\"Saved model to disk\")"
   ]
  },
  {
   "cell_type": "code",
   "execution_count": 52,
   "metadata": {
    "colab": {
     "base_uri": "https://localhost:8080/",
     "height": 51
    },
    "colab_type": "code",
    "id": "iyiZjSnNt36X",
    "outputId": "eb94a1d1-f88c-46ae-d938-d43567953d5c"
   },
   "outputs": [
    {
     "name": "stdout",
     "output_type": "stream",
     "text": [
      "models\ttest  train\n",
      "models/model.h5  models/model.json\n"
     ]
    }
   ],
   "source": [
    "!ls \n",
    "!ls models/*"
   ]
  },
  {
   "cell_type": "code",
   "execution_count": 0,
   "metadata": {
    "colab": {},
    "colab_type": "code",
    "id": "u-YryyOVASl_"
   },
   "outputs": [],
   "source": [
    "import numpy as np\n",
    "from keras.preprocessing import image\n",
    "from os import popen"
   ]
  },
  {
   "cell_type": "code",
   "execution_count": 68,
   "metadata": {
    "colab": {
     "base_uri": "https://localhost:8080/",
     "height": 697
    },
    "colab_type": "code",
    "id": "xSa7oqW7EeS7",
    "outputId": "1af10c75-10a7-4e07-91e3-6d0063f53dd2"
   },
   "outputs": [
    {
     "name": "stdout",
     "output_type": "stream",
     "text": [
      "\t[Porta Aberta]\t test/porta_aberta/frame100.jpg\n",
      "\t[Porta Fechada]\t test/porta_fechada/frame0.jpg\n",
      "\t[Porta Aberta]\t test/porta_aberta/frame101.jpg\n",
      "\t[Porta Fechada]\t test/porta_fechada/frame10.jpg\n",
      "\t[Porta Aberta]\t test/porta_aberta/frame102.jpg\n",
      "\t[Porta Fechada]\t test/porta_fechada/frame11.jpg\n",
      "\t[Porta Aberta]\t test/porta_aberta/frame103.jpg\n",
      "\t[Porta Fechada]\t test/porta_fechada/frame12.jpg\n",
      "\t[Porta Aberta]\t test/porta_aberta/frame104.jpg\n",
      "\t[Porta Fechada]\t test/porta_fechada/frame13.jpg\n",
      "\t[Porta Aberta]\t test/porta_aberta/frame105.jpg\n",
      "\t[Porta Fechada]\t test/porta_fechada/frame14.jpg\n",
      "\t[Porta Aberta]\t test/porta_aberta/frame106.jpg\n",
      "\t[Porta Fechada]\t test/porta_fechada/frame15.jpg\n",
      "\t[Porta Aberta]\t test/porta_aberta/frame107.jpg\n",
      "\t[Porta Fechada]\t test/porta_fechada/frame16.jpg\n",
      "\t[Porta Aberta]\t test/porta_aberta/frame108.jpg\n",
      "\t[Porta Fechada]\t test/porta_fechada/frame171.jpg\n",
      "\t[Porta Aberta]\t test/porta_aberta/frame109.jpg\n",
      "\t[Porta Fechada]\t test/porta_fechada/frame172.jpg\n",
      "\t[Porta Aberta]\t test/porta_aberta/frame110.jpg\n",
      "\t[Porta Fechada]\t test/porta_fechada/frame173.jpg\n",
      "\t[Porta Aberta]\t test/porta_aberta/frame111.jpg\n",
      "\t[Porta Fechada]\t test/porta_fechada/frame174.jpg\n",
      "\t[Porta Aberta]\t test/porta_aberta/frame112.jpg\n",
      "\t[Porta Fechada]\t test/porta_fechada/frame175.jpg\n",
      "\t[Porta Aberta]\t test/porta_aberta/frame113.jpg\n",
      "\t[Porta Fechada]\t test/porta_fechada/frame176.jpg\n",
      "\t[Porta Aberta]\t test/porta_aberta/frame114.jpg\n",
      "\t[Porta Fechada]\t test/porta_fechada/frame177.jpg\n",
      "\t[Porta Aberta]\t test/porta_aberta/frame115.jpg\n",
      "\t[Porta Fechada]\t test/porta_fechada/frame178.jpg\n",
      "\t[Porta Aberta]\t test/porta_aberta/frame116.jpg\n",
      "\t[Porta Fechada]\t test/porta_fechada/frame179.jpg\n",
      "\t[Porta Aberta]\t test/porta_aberta/frame117.jpg\n",
      "\t[Porta Fechada]\t test/porta_fechada/frame17.jpg\n",
      "\t[Porta Aberta]\t test/porta_aberta/frame118.jpg\n",
      "\t[Porta Fechada]\t test/porta_fechada/frame180.jpg\n",
      "\t[Porta Aberta]\t test/porta_aberta/frame119.jpg\n",
      "\t[Porta Fechada]\t test/porta_fechada/frame181.jpg\n"
     ]
    }
   ],
   "source": [
    "dados = popen(\"ls test/porta_aberta/*.jpg\").read().split(\"\\n\")\n",
    "dados1 = popen(\"ls test/porta_fechada/*.jpg\").read().split(\"\\n\")\n",
    "\n",
    "for p in range(20):\n",
    "  test_ibage = image.load_img(dados[p], target_size = (64, 64))\n",
    "  test_ibage = image.img_to_array(test_ibage)\n",
    "  test_ibage = np.expand_dims(test_ibage, axis = 0)\n",
    "  result = clf.predict(test_ibage)\n",
    "  test_ibage1 = image.load_img(dados1[p], target_size = (64, 64))\n",
    "  test_ibage1 = image.img_to_array(test_ibage1)\n",
    "  test_ibage1 = np.expand_dims(test_ibage1, axis = 0)\n",
    "  result1 = clf.predict(test_ibage1)  \n",
    "  #print(p,int(result[0][0]),dados[p],\"\\t\",int(result1[0][0]),dados1[p])\n",
    "  if int(result[0][0]) == 0: \n",
    "    print(\"\\t[Porta Aberta]\\t\",dados[p])\n",
    "  if int(result1[0][0]) == 1: \n",
    "    print(\"\\t[Porta Fechada]\\t\",dados1[p])\n",
    "  else: \n",
    "    print(\"NDA\")  "
   ]
  },
  {
   "cell_type": "code",
   "execution_count": 0,
   "metadata": {
    "colab": {},
    "colab_type": "code",
    "id": "amYF6kacHdpl"
   },
   "outputs": [],
   "source": []
  }
 ],
 "metadata": {
  "accelerator": "GPU",
  "colab": {
   "collapsed_sections": [],
   "name": "model.ipynb",
   "provenance": []
  },
  "kernelspec": {
   "display_name": "Python 3",
   "language": "python",
   "name": "python3"
  },
  "language_info": {
   "codemirror_mode": {
    "name": "ipython",
    "version": 3
   },
   "file_extension": ".py",
   "mimetype": "text/x-python",
   "name": "python",
   "nbconvert_exporter": "python",
   "pygments_lexer": "ipython3",
   "version": "3.7.5"
  }
 },
 "nbformat": 4,
 "nbformat_minor": 1
}
