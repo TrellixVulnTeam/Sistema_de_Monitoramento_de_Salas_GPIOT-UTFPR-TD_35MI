{
 "cells": [
  {
   "cell_type": "markdown",
   "metadata": {
    "colab_type": "text",
    "id": "hGwSKL449pFY"
   },
   "source": [
    "## Preparando dados"
   ]
  },
  {
   "cell_type": "code",
   "execution_count": 0,
   "metadata": {
    "colab": {},
    "colab_type": "code",
    "id": "7SQjlHRsuJDA"
   },
   "outputs": [],
   "source": [
    "!pip install -q keras\n",
    "!pip install -q tqdm\n",
    "!apt-get -qq install -y libsm6 libxext6 && pip install -q -U opencv-python"
   ]
  },
  {
   "cell_type": "code",
   "execution_count": 0,
   "metadata": {
    "colab": {
     "base_uri": "https://localhost:8080/",
     "height": 299
    },
    "colab_type": "code",
    "id": "IHHX4TnWvMGD",
    "outputId": "c6941419-1925-4754-d201-3d196aaf6b4b"
   },
   "outputs": [
    {
     "name": "stdout",
     "output_type": "stream",
     "text": [
      "E: Package 'python-software-properties' has no installation candidate\n",
      "debconf: unable to initialize frontend: Dialog\n",
      "debconf: (No usable dialog-like program is installed, so the dialog based frontend cannot be used. at /usr/share/perl5/Debconf/FrontEnd/Dialog.pm line 76, <> line 1.)\n",
      "debconf: falling back to frontend: Readline\n",
      "debconf: unable to initialize frontend: Readline\n",
      "debconf: (This frontend requires a controlling tty.)\n",
      "debconf: falling back to frontend: Teletype\n",
      "dpkg-preconfigure: unable to re-open stdin: \n",
      "Selecting previously unselected package google-drive-ocamlfuse.\n",
      "(Reading database ... 145674 files and directories currently installed.)\n",
      "Preparing to unpack .../google-drive-ocamlfuse_0.7.14-0ubuntu1~ubuntu18.04.1_amd64.deb ...\n",
      "Unpacking google-drive-ocamlfuse (0.7.14-0ubuntu1~ubuntu18.04.1) ...\n",
      "Setting up google-drive-ocamlfuse (0.7.14-0ubuntu1~ubuntu18.04.1) ...\n",
      "Processing triggers for man-db (2.8.3-2ubuntu0.1) ...\n"
     ]
    }
   ],
   "source": [
    "!sudo apt-get install -y -qq software-properties-common python-software-properties module-init-tools\n",
    "!sudo add-apt-repository -y ppa:alessandro-strada/ppa 2>&1 > /dev/null\n",
    "!sudo apt-get update -qq 2>&1 > /dev/null\n",
    "!sudo apt-get -y install -qq google-drive-ocamlfuse fuse"
   ]
  },
  {
   "cell_type": "code",
   "execution_count": 5,
   "metadata": {
    "colab": {},
    "colab_type": "code",
    "id": "2VXtIeInvdzK"
   },
   "outputs": [],
   "source": [
    "#from google.colab import auth\n",
    "#auth.authenticate_user()"
   ]
  },
  {
   "cell_type": "code",
   "execution_count": 4,
   "metadata": {
    "colab": {
     "base_uri": "https://localhost:8080/",
     "height": 131
    },
    "colab_type": "code",
    "id": "OnZ1MPlDvp_Y",
    "outputId": "d2d2a5da-3bb0-449b-8345-ee3f55ad3e45"
   },
   "outputs": [],
   "source": [
    "#from oauth2client.client import GoogleCredentials\n",
    "#creds = GoogleCredentials.get_application_default()\n",
    "#import getpass\n",
    "#!google-drive-ocamlfuse -headless -id={creds.client_id} -secret={creds.client_secret} < /dev/null 2>&1 | grep URL\n",
    "#!echo {vcode} | google-drive-ocamlfuse -headless -id={creds.client_id} -secret={creds.client_secret}\n",
    "#vcode = getpass.getpass()"
   ]
  },
  {
   "cell_type": "code",
   "execution_count": 8,
   "metadata": {
    "colab": {
     "base_uri": "https://localhost:8080/",
     "height": 36
    },
    "colab_type": "code",
    "id": "KwB6B2lIwQHb",
    "outputId": "b0967dbb-f6d5-48af-82cb-75082e894e1a"
   },
   "outputs": [
    {
     "name": "stdout",
     "output_type": "stream",
     "text": [
      "split_frame.py\ttest  train  videos\r\n"
     ]
    }
   ],
   "source": [
    "!ls ../dataset"
   ]
  },
  {
   "cell_type": "code",
   "execution_count": 3,
   "metadata": {
    "colab": {
     "base_uri": "https://localhost:8080/",
     "height": 131
    },
    "colab_type": "code",
    "id": "o1HAspCcxzYJ",
    "outputId": "5a54f49c-70dd-4788-ed80-50ae537010a3"
   },
   "outputs": [],
   "source": [
    "#from google.colab import drive\n",
    "#drive.mount('/content/drive')"
   ]
  },
  {
   "cell_type": "code",
   "execution_count": 2,
   "metadata": {
    "colab": {
     "base_uri": "https://localhost:8080/",
     "height": 148
    },
    "colab_type": "code",
    "id": "kxobd9cEnEp-",
    "outputId": "b9b80eda-9ff3-484a-b082-fbffc4aac5b0"
   },
   "outputs": [
    {
     "name": "stdout",
     "output_type": "stream",
     "text": [
      "'Documentação Monitoramento de Sala UTFPR.ipynb'   Untitled.ipynb\r\n",
      "'model classifier status door.ipynb'\t\t  'View README.ipynb'\r\n"
     ]
    }
   ],
   "source": [
    "!ls "
   ]
  },
  {
   "cell_type": "code",
   "execution_count": 0,
   "metadata": {
    "colab": {},
    "colab_type": "code",
    "id": "ZH1kjR-WaWGn"
   },
   "outputs": [],
   "source": []
  },
  {
   "cell_type": "code",
   "execution_count": 0,
   "metadata": {
    "colab": {},
    "colab_type": "code",
    "id": "MV3rGlyzxvVl"
   },
   "outputs": [],
   "source": [
    "#!mkdir \"drive/My Drive/images\""
   ]
  },
  {
   "cell_type": "code",
   "execution_count": 9,
   "metadata": {
    "colab": {},
    "colab_type": "code",
    "id": "Iyv7unbHyHj5"
   },
   "outputs": [],
   "source": [
    "from os import chdir"
   ]
  },
  {
   "cell_type": "code",
   "execution_count": 11,
   "metadata": {},
   "outputs": [],
   "source": [
    "chdir(\"../dataset/\")"
   ]
  },
  {
   "cell_type": "code",
   "execution_count": 12,
   "metadata": {},
   "outputs": [
    {
     "name": "stdout",
     "output_type": "stream",
     "text": [
      "split_frame.py\ttest  train  videos\r\n"
     ]
    }
   ],
   "source": []
  },
  {
   "cell_type": "code",
   "execution_count": 10,
   "metadata": {
    "colab": {},
    "colab_type": "code",
    "id": "Q0jlZQTAy0ky"
   },
   "outputs": [],
   "source": [
    "from IPython.display import Image"
   ]
  },
  {
   "cell_type": "code",
   "execution_count": 14,
   "metadata": {
    "colab": {
     "base_uri": "https://localhost:8080/",
     "height": 1000
    },
    "colab_type": "code",
    "id": "M7gwatYvgVz_",
    "outputId": "033d26c1-e3ff-4a3a-92a6-31579107deb3"
   },
   "outputs": [
    {
     "name": "stdout",
     "output_type": "stream",
     "text": [
      "frame100.jpg  frame120.jpg  frame140.jpg  frame160.jpg\tframe80.jpg\r\n",
      "frame101.jpg  frame121.jpg  frame141.jpg  frame161.jpg\tframe81.jpg\r\n",
      "frame102.jpg  frame122.jpg  frame142.jpg  frame162.jpg\tframe82.jpg\r\n",
      "frame103.jpg  frame123.jpg  frame143.jpg  frame163.jpg\tframe83.jpg\r\n",
      "frame104.jpg  frame124.jpg  frame144.jpg  frame164.jpg\tframe84.jpg\r\n",
      "frame105.jpg  frame125.jpg  frame145.jpg  frame165.jpg\tframe85.jpg\r\n",
      "frame106.jpg  frame126.jpg  frame146.jpg  frame166.jpg\tframe86.jpg\r\n",
      "frame107.jpg  frame127.jpg  frame147.jpg  frame167.jpg\tframe87.jpg\r\n",
      "frame108.jpg  frame128.jpg  frame148.jpg  frame168.jpg\tframe88.jpg\r\n",
      "frame109.jpg  frame129.jpg  frame149.jpg  frame169.jpg\tframe89.jpg\r\n",
      "frame110.jpg  frame130.jpg  frame150.jpg  frame170.jpg\tframe90.jpg\r\n",
      "frame111.jpg  frame131.jpg  frame151.jpg  frame71.jpg\tframe91.jpg\r\n",
      "frame112.jpg  frame132.jpg  frame152.jpg  frame72.jpg\tframe92.jpg\r\n",
      "frame113.jpg  frame133.jpg  frame153.jpg  frame73.jpg\tframe93.jpg\r\n",
      "frame114.jpg  frame134.jpg  frame154.jpg  frame74.jpg\tframe94.jpg\r\n",
      "frame115.jpg  frame135.jpg  frame155.jpg  frame75.jpg\tframe95.jpg\r\n",
      "frame116.jpg  frame136.jpg  frame156.jpg  frame76.jpg\tframe96.jpg\r\n",
      "frame117.jpg  frame137.jpg  frame157.jpg  frame77.jpg\tframe97.jpg\r\n",
      "frame118.jpg  frame138.jpg  frame158.jpg  frame78.jpg\tframe98.jpg\r\n",
      "frame119.jpg  frame139.jpg  frame159.jpg  frame79.jpg\tframe99.jpg\r\n"
     ]
    }
   ],
   "source": [
    "!ls train/porta_aberta/"
   ]
  },
  {
   "cell_type": "code",
   "execution_count": 15,
   "metadata": {
    "colab": {
     "base_uri": "https://localhost:8080/",
     "height": 377
    },
    "colab_type": "code",
    "id": "zhqj1O8Jy6CN",
    "outputId": "c1c775ce-543f-4771-df84-da45cddaee76"
   },
   "outputs": [
    {
     "data": {
      "image/jpeg": "[encoded data removed]",
      "text/plain": [
       "<IPython.core.display.Image object>"
      ]
     },
     "execution_count": 15,
     "metadata": {},
     "output_type": "execute_result"
    }
   ],
   "source": [
    "Image(\"train/porta_aberta/frame159.jpg\")"
   ]
  },
  {
   "cell_type": "markdown",
   "metadata": {
    "colab_type": "text",
    "id": "IjdzZYHi9wIR"
   },
   "source": [
    "---\n",
    "\n",
    "## Importando bibliotecas e frameworks"
   ]
  },
  {
   "cell_type": "code",
   "execution_count": 17,
   "metadata": {
    "colab": {},
    "colab_type": "code",
    "id": "kz6gJtjV9lsS"
   },
   "outputs": [
    {
     "ename": "ModuleNotFoundError",
     "evalue": "No module named 'sklearn'",
     "output_type": "error",
     "traceback": [
      "\u001b[0;31m---------------------------------------------------------------------------\u001b[0m",
      "\u001b[0;31mModuleNotFoundError\u001b[0m                       Traceback (most recent call last)",
      "\u001b[0;32m<ipython-input-17-a2084bdecf33>\u001b[0m in \u001b[0;36m<module>\u001b[0;34m\u001b[0m\n\u001b[1;32m     11\u001b[0m \u001b[0;32mimport\u001b[0m \u001b[0mh5py\u001b[0m\u001b[0;34m\u001b[0m\u001b[0;34m\u001b[0m\u001b[0m\n\u001b[1;32m     12\u001b[0m \u001b[0;32mimport\u001b[0m \u001b[0mcsv\u001b[0m\u001b[0;34m\u001b[0m\u001b[0;34m\u001b[0m\u001b[0m\n\u001b[0;32m---> 13\u001b[0;31m \u001b[0;32mfrom\u001b[0m \u001b[0msklearn\u001b[0m\u001b[0;34m.\u001b[0m\u001b[0mmodel_selection\u001b[0m \u001b[0;32mimport\u001b[0m \u001b[0mKFold\u001b[0m\u001b[0;34m,\u001b[0m \u001b[0mtrain_test_split\u001b[0m\u001b[0;34m\u001b[0m\u001b[0;34m\u001b[0m\u001b[0m\n\u001b[0m\u001b[1;32m     14\u001b[0m \u001b[0;32mfrom\u001b[0m \u001b[0msklearn\u001b[0m\u001b[0;34m.\u001b[0m\u001b[0mmetrics\u001b[0m \u001b[0;32mimport\u001b[0m \u001b[0mlog_loss\u001b[0m\u001b[0;34m,\u001b[0m \u001b[0mconfusion_matrix\u001b[0m\u001b[0;34m\u001b[0m\u001b[0;34m\u001b[0m\u001b[0m\n\u001b[1;32m     15\u001b[0m \u001b[0;32mfrom\u001b[0m \u001b[0msklearn\u001b[0m\u001b[0;34m.\u001b[0m\u001b[0mutils\u001b[0m \u001b[0;32mimport\u001b[0m \u001b[0mshuffle\u001b[0m\u001b[0;34m\u001b[0m\u001b[0;34m\u001b[0m\u001b[0m\n",
      "\u001b[0;31mModuleNotFoundError\u001b[0m: No module named 'sklearn'"
     ]
    }
   ],
   "source": [
    "from __future__ import print_function, division\n",
    "import numpy as np\n",
    "import random\n",
    "import os\n",
    "import glob\n",
    "# https://opencv.org/\n",
    "import cv2\n",
    "import datetime\n",
    "import pandas as pd\n",
    "import time\n",
    "import h5py\n",
    "import csv\n",
    "from sklearn.model_selection import KFold, train_test_split\n",
    "from sklearn.metrics import log_loss, confusion_matrix\n",
    "from sklearn.utils import shuffle\n",
    "from PIL import Image, ImageChops, ImageOps\n",
    "import matplotlib.pyplot as plt\n",
    "from keras import backend as K\n",
    "from keras.callbacks import EarlyStopping, Callback\n",
    "from keras.utils import np_utils\n",
    "from keras.preprocessing.image import ImageDataGenerator, load_img, img_to_array\n",
    "from keras import optimizers\n",
    "from keras.models import Sequential, model_from_json\n",
    "from keras.layers import Convolution2D, MaxPooling2D, ZeroPadding2D, Activation, Dropout, Flatten, Dense"
   ]
  },
  {
   "cell_type": "code",
   "execution_count": 0,
   "metadata": {
    "colab": {},
    "colab_type": "code",
    "id": "ZYhRLQtg_pXk"
   },
   "outputs": [],
   "source": [
    "from keras.models import Sequential\n",
    "from keras.layers import Conv2D\n",
    "from keras.layers import MaxPooling2D\n",
    "from keras.layers import Flatten\n",
    "from keras.layers import Dense\n"
   ]
  },
  {
   "cell_type": "markdown",
   "metadata": {
    "colab_type": "text",
    "id": "H6xpDuVTh4AN"
   },
   "source": [
    "## Criando Modelo"
   ]
  },
  {
   "cell_type": "code",
   "execution_count": 0,
   "metadata": {
    "colab": {},
    "colab_type": "code",
    "id": "x6xupIoZ94cr"
   },
   "outputs": [],
   "source": [
    "clf = Sequential()\n",
    "clf.add(Conv2D(32, (3, 3), input_shape=(64, 64, 3), activation=\"relu\"))\n",
    "clf.add(MaxPooling2D(pool_size = (2, 2)))\n",
    "clf.add(Conv2D(32, (3, 3), activation = 'relu'))\n",
    "clf.add(MaxPooling2D(pool_size = (2, 2)))\n",
    "clf.add(Flatten())\n",
    "clf.add(Dense(activation=\"relu\", units=128))\n",
    "clf.add(Dense(activation=\"sigmoid\", units=1))\n",
    "clf.compile(optimizer = 'adam', loss = 'binary_crossentropy', metrics = ['accuracy'])"
   ]
  },
  {
   "cell_type": "markdown",
   "metadata": {
    "colab_type": "text",
    "id": "fOSLBORCiF-3"
   },
   "source": [
    "## Definindo treino e teste"
   ]
  },
  {
   "cell_type": "code",
   "execution_count": 120,
   "metadata": {
    "colab": {
     "base_uri": "https://localhost:8080/",
     "height": 54
    },
    "colab_type": "code",
    "id": "p75ebTW_iE76",
    "outputId": "71cc7244-3b7e-4f76-faea-75d0af797cdb"
   },
   "outputs": [
    {
     "name": "stdout",
     "output_type": "stream",
     "text": [
      "Found 1783 images belonging to 2 classes.\n",
      "Found 1783 images belonging to 2 classes.\n"
     ]
    }
   ],
   "source": [
    "from keras.preprocessing.image import ImageDataGenerator\n",
    "\n",
    "traino_data_gen = ImageDataGenerator(rescale = 1./255,\n",
    "                                   shear_range = 0.2,\n",
    "                                   zoom_range = 0.2,\n",
    "                                   horizontal_flip = True)\n",
    "\n",
    "test_dataset = ImageDataGenerator(rescale = 1./255)\n",
    "\n",
    "treino_dataset = traino_data_gen.flow_from_directory('./train',\n",
    "                                                 target_size = (64, 64),\n",
    "                                                 batch_size = 32,\n",
    "                                                 class_mode = 'binary')\n",
    "\n",
    "test_data = test_dataset.flow_from_directory('./test',\n",
    "                                            target_size = (64, 64),\n",
    "                                            batch_size = 32,\n",
    "                                            class_mode = 'binary')\n",
    "\n"
   ]
  },
  {
   "cell_type": "markdown",
   "metadata": {
    "colab_type": "text",
    "id": "7NN6h_h8iEA_"
   },
   "source": [
    "## Treinando modelo"
   ]
  },
  {
   "cell_type": "code",
   "execution_count": 122,
   "metadata": {
    "colab": {
     "base_uri": "https://localhost:8080/",
     "height": 281
    },
    "colab_type": "code",
    "id": "zCtez-qx_YOE",
    "outputId": "ced875ea-c1e9-48bb-d37c-4a00178200ae"
   },
   "outputs": [
    {
     "name": "stdout",
     "output_type": "stream",
     "text": [
      "Epoch 1/5\n",
      " 46/100 [============>.................] - ETA: 27s - loss: 0.0018 - acc: 1.0000"
     ]
    },
    {
     "name": "stderr",
     "output_type": "stream",
     "text": [
      "/usr/local/lib/python3.6/dist-packages/PIL/Image.py:914: UserWarning: Palette images with Transparency   expressed in bytes should be converted to RGBA images\n",
      "  'to RGBA images')\n"
     ]
    },
    {
     "name": "stdout",
     "output_type": "stream",
     "text": [
      "100/100 [==============================] - 87s 872ms/step - loss: 0.0020 - acc: 0.9997 - val_loss: 2.8540e-04 - val_acc: 1.0000\n",
      "Epoch 2/5\n",
      "100/100 [==============================] - 83s 828ms/step - loss: 2.9677e-04 - acc: 1.0000 - val_loss: 8.6679e-05 - val_acc: 1.0000\n",
      "Epoch 3/5\n",
      "100/100 [==============================] - 77s 765ms/step - loss: 2.2993e-04 - acc: 1.0000 - val_loss: 8.1457e-05 - val_acc: 1.0000\n",
      "Epoch 4/5\n",
      "100/100 [==============================] - 78s 782ms/step - loss: 2.0036e-04 - acc: 1.0000 - val_loss: 6.6707e-05 - val_acc: 1.0000\n",
      "Epoch 5/5\n",
      "100/100 [==============================] - 76s 757ms/step - loss: 6.4457e-05 - acc: 1.0000 - val_loss: 2.6474e-05 - val_acc: 1.0000\n"
     ]
    },
    {
     "data": {
      "text/plain": [
       "<keras.callbacks.History at 0x7fb9e6056320>"
      ]
     },
     "execution_count": 122,
     "metadata": {
      "tags": []
     },
     "output_type": "execute_result"
    }
   ],
   "source": [
    "  clf.fit_generator(treino_dataset,\n",
    "                         steps_per_epoch = (100),\n",
    "                         epochs = 5,\n",
    "                         validation_data = test_data,\n",
    "                         validation_steps = 100)"
   ]
  },
  {
   "cell_type": "code",
   "execution_count": 18,
   "metadata": {
    "colab": {
     "base_uri": "https://localhost:8080/",
     "height": 167
    },
    "colab_type": "code",
    "id": "zZaeVvLDBxjx",
    "outputId": "ba0d9fb6-b8e3-4635-ef3a-8f3b5f8c0a22"
   },
   "outputs": [
    {
     "name": "stdout",
     "output_type": "stream",
     "text": [
      "split_frame.py\ttest  train  videos\r\n"
     ]
    }
   ],
   "source": [
    "!ls"
   ]
  },
  {
   "cell_type": "code",
   "execution_count": 129,
   "metadata": {
    "colab": {
     "base_uri": "https://localhost:8080/",
     "height": 36
    },
    "colab_type": "code",
    "id": "vcZ-EW9eA15d",
    "outputId": "8735d816-a91d-4ba2-c47d-c7eb39950c61"
   },
   "outputs": [
    {
     "name": "stdout",
     "output_type": "stream",
     "text": [
      "Saved model to disk\n"
     ]
    }
   ],
   "source": [
    "# serialize model to JSON\n",
    "model_json = clf.to_json()\n",
    "with open(\"model.json\", \"w\") as json_file:\n",
    "    json_file.write(model_json)\n",
    "# serialize weights to HDF5\n",
    "clf.save_weights(\"model.h5\")\n",
    "print(\"Saved model to disk\")"
   ]
  },
  {
   "cell_type": "code",
   "execution_count": 130,
   "metadata": {
    "colab": {
     "base_uri": "https://localhost:8080/",
     "height": 186
    },
    "colab_type": "code",
    "id": "iyiZjSnNt36X",
    "outputId": "5afbff60-1be9-4d93-ab05-34f786ff3363"
   },
   "outputs": [
    {
     "name": "stdout",
     "output_type": "stream",
     "text": [
      "11042019-weaner-pigs-in-tents-c-tim-scrivener.jpg  original-images-old\n",
      "609640-gettyimages-802480150.jpg\t\t   puppy-dog.jpg\n",
      "609640-gettyimages-802480150.jpg.1\t\t   puppy.jpg\n",
      "j86BVMguzBFy5fY2wtpngP.jpg\t\t\t   test\n",
      "linha_model_5_epochs.h5\t\t\t\t   test-old\n",
      "linha_model.h5\t\t\t\t\t   test.old.2\n",
      "model.h5\t\t\t\t\t   train\n",
      "model.json\t\t\t\t\t   train-old\n",
      "original-images\t\t\t\t\t   train.old.2\n"
     ]
    }
   ],
   "source": [
    "!ls"
   ]
  },
  {
   "cell_type": "code",
   "execution_count": 0,
   "metadata": {
    "colab": {},
    "colab_type": "code",
    "id": "u-YryyOVASl_"
   },
   "outputs": [],
   "source": [
    "\n",
    "import numpy as np\n",
    "from keras.preprocessing import image\n"
   ]
  },
  {
   "cell_type": "code",
   "execution_count": 0,
   "metadata": {
    "colab": {
     "base_uri": "https://localhost:8080/",
     "height": 1000
    },
    "colab_type": "code",
    "id": "xSa7oqW7EeS7",
    "outputId": "2760591a-bb27-42e7-c4b2-917d73dc58ca"
   },
   "outputs": [
    {
     "name": "stdout",
     "output_type": "stream",
     "text": [
      "0 0 test/linha/image1000.png \t 1 test/not_line/10.bald-boi-ugly.png\n",
      "1 0 test/linha/image1001.png \t 1 test/not_line/11.Transparent-OrangeWhiteCat.png\n",
      "2 0 test/linha/image1002.png \t 1 test/not_line/14.randbitmap-rdo-section.png\n"
     ]
    },
    {
     "name": "stderr",
     "output_type": "stream",
     "text": [
      "/usr/local/lib/python3.6/dist-packages/PIL/Image.py:914: UserWarning: Palette images with Transparency   expressed in bytes should be converted to RGBA images\n",
      "  'to RGBA images')\n"
     ]
    },
    {
     "name": "stdout",
     "output_type": "stream",
     "text": [
      "3 0 test/linha/image1003.png \t 1 test/not_line/15.Feb_2019_blog_rabbit_header.png\n",
      "4 0 test/linha/image1004.png \t 1 test/not_line/16.vicious_dog_0.png\n",
      "5 0 test/linha/image1005.png \t 1 test/not_line/17.300px-Dog_morphological_variation.png\n",
      "6 0 test/linha/image1006.png \t 1 test/not_line/17.random.max-752x423.png\n",
      "7 0 test/linha/image1007.png \t 1 test/not_line/17.run-run-as-administrator-i%E2%80%99m-fast-as-fuk-boi-61530240.png\n",
      "8 0 test/linha/image1008.png \t 1 test/not_line/18.porco-1-1140x611.png\n",
      "9 0 test/linha/image1009.png \t 1 test/not_line/19.fillrandom01.png\n",
      "10 0 test/linha/image100.png \t 1 test/not_line/1.RandomBitmap.png\n",
      "11 0 test/linha/image1010.png \t 1 test/not_line/20.darqhlo-ea8b7bf3-a73f-4447-9c96-818f2894d996.png\n",
      "12 0 test/linha/image1011.png \t 1 test/not_line/21.1497872355.mangoicy_deerdear.png\n",
      "13 0 test/linha/image1012.png \t 1 test/not_line/21.Scottish-fold.png\n",
      "14 0 test/linha/image1013.png \t 1 test/not_line/25.2019-06-144-796x423.png\n",
      "15 0 test/linha/image1014.png \t 1 test/not_line/27.HH53fMhq6lkCnr7cLxnR7HSVf6XMxlZisr-N5ybujv8.png\n",
      "16 0 test/linha/image1015.png \t 1 test/not_line/28.860_pet_genetics.png\n",
      "17 0 test/linha/image1016.png \t 1 test/not_line/29.Arara-de-Asa-Verde-e1516990550467.png\n",
      "18 0 test/linha/image1017.png \t 1 test/not_line/2.Thinking-of-getting-a-cat.png\n",
      "19 0 test/linha/image1018.png \t 1 test/not_line/31.763404_mojojojoke_dad-of-boi.png\n",
      "20 0 test/linha/image1019.png \t 1 test/not_line/32.1*FnJEebqEiygosN-o36rsdQ.png\n",
      "21 0 test/linha/image101.png \t 1 test/not_line/32.jce8jv4f7icy.png\n",
      "22 0 test/linha/image1020.png \t 1 test/not_line/32.Morcego-Pixabau.png\n",
      "23 0 test/linha/image1021.png \t 1 test/not_line/33.RandomFail3.png\n",
      "24 0 test/linha/image1022.png \t 1 test/not_line/35.dfrtg.png\n",
      "25 0 test/linha/image1023.png \t 1 test/not_line/35.FIGURA-8-Morcego-beija-flor-Anoura-geoffroyi-com-sua-longa-e-extensivel-lingua-que-o.png\n",
      "26 0 test/linha/image1024.png \t 1 test/not_line/37.fFjeTX.png\n",
      "27 0 test/linha/image1025.png \t 1 test/not_line/38.Applications_Grey_RGB_Random_Number_Generation-300x300.png\n",
      "28 0 test/linha/image1026.png \t 1 test/not_line/38.Untitled-8-01_1024x1024@2x.png\n",
      "29 0 test/linha/image1027.png \t 1 test/not_line/39.randbitmap-rdo.png\n",
      "30 0 test/linha/image1028.png \t 1 test/not_line/42.arara-azul.png\n",
      "31 0 test/linha/image1029.png \t 1 test/not_line/44.bmer8w2m96x11.png\n",
      "32 0 test/linha/image102.png \t 1 test/not_line/45.Screen-Shot-2019-11-21-at-10.53.38.png\n",
      "33 0 test/linha/image1030.png \t 1 test/not_line/47.617287_most-high-studios_a-random-superhero-team.png\n",
      "34 0 test/linha/image1031.png \t 1 test/not_line/48.im_so_random.png\n",
      "35 0 test/linha/image1032.png \t 1 test/not_line/49.c-print-random-range-1.png\n",
      "36 0 test/linha/image1033.png \t 1 test/not_line/50.Generate-100-random-strings-with-14-characters-long-using-pwgen.png\n",
      "37 0 test/linha/image1034.png \t 1 test/not_line/50.hyacinth_macaw.png\n",
      "38 0 test/linha/image1035.png \t 1 test/not_line/54.Java-Random-Number-From-Atmospheric-Noise-MVP-Java.png\n",
      "39 0 test/linha/image1036.png \t 1 test/not_line/55.ffd.png\n",
      "40 0 test/linha/image1037.png \t 1 test/not_line/56.286606209032211.png\n",
      "41 0 test/linha/image1038.png \t 1 test/not_line/56.306019779218211.png\n",
      "42 0 test/linha/image1039.png \t 1 test/not_line/58.AAAABaSHmXZpuuw556uwb6wXx1HVHwThbzQoHAQW5hi8kRwoBChPz3Rt4JlL_s12x_l0d3VDCUOVwpeCjNYf1V24uAX8nkaaalOTlILl.png\n",
      "43 0 test/linha/image103.png \t 1 test/not_line/58.baby-rabbit-swarovski-5135942.png\n",
      "44 0 test/linha/image1040.png \t 1 test/not_line/59.301760072681211.png\n",
      "45 0 test/linha/image1041.png \t 1 test/not_line/5.gyq3gs848dy11.png\n",
      "46 0 test/linha/image1042.png \t 1 test/not_line/5.morcego.png\n",
      "47 0 test/linha/image1043.png \t 1 test/not_line/5.randbitmap-wamp.png\n",
      "48 0 test/linha/image1044.png \t 1 test/not_line/60.f63740a0-4cad-440c-8839-40f578426658.sized-1000x1000.png\n",
      "49 0 test/linha/image1045.png \t 1 test/not_line/62.1*QSPhw_Im0z3ur1Oi7IaEHA.png\n",
      "50 0 test/linha/image1046.png \t 1 test/not_line/62.630909_ktoukun_baldi-boi.png\n",
      "51 0 test/linha/image1047.png \t 1 test/not_line/67.4QdKxMQYjv.png\n",
      "52 0 test/linha/image1048.png \t 1 test/not_line/67.5c93520087.png\n",
      "53 0 test/linha/image1049.png \t 1 test/not_line/68.Simple-random-sampling-in-R.png\n",
      "54 0 test/linha/image104.png \t 1 test/not_line/6.Predictions-2019_Twitter_02.width-1200.png\n",
      "55 0 test/linha/image1050.png \t 1 test/not_line/70.6103.png\n",
      "56 0 test/linha/image1051.png \t 1 test/not_line/71.2-24776_cute-random-png-transparent-png.png\n",
      "57 0 test/linha/image1052.png \t 1 test/not_line/72.Rng.png\n",
      "58 0 test/linha/image1053.png \t 1 test/not_line/72.SHITBOI_CLOSEUP_300x.png\n",
      "59 0 test/linha/image1054.png \t 1 test/not_line/74.beneficios-morcegos-natgeo-polinizadores3.png\n",
      "60 0 test/linha/image1055.png \t 1 test/not_line/74.Copy-of-Copy-of-USE-THIS-donate-header-1.png\n",
      "61 0 test/linha/image1056.png \t 1 test/not_line/74.rabbit.png\n",
      "62 0 test/linha/image1057.png \t 1 test/not_line/75.randbitmap-wamp-section.png\n",
      "63 0 test/linha/image1058.png \t 1 test/not_line/76.Homepage-Cat-MOBILE.png\n",
      "64 0 test/linha/image1059.png \t 1 test/not_line/76.porco-rosso-10.png\n",
      "65 0 test/linha/image105.png \t 1 test/not_line/76.rdrand-fail.png\n",
      "66 0 test/linha/image1060.png \t 1 test/not_line/78.860_genetics_breeds_sidebar.png\n",
      "67 0 test/linha/image1061.png \t 1 test/not_line/78.random-choice-tool.png\n",
      "68 0 test/linha/image1062.png \t 1 test/not_line/78.screen_shot_2018-02-28_at_12.47.55_pm.png\n",
      "69 0 test/linha/image1063.png \t 1 test/not_line/79.about-img.png\n",
      "70 0 test/linha/image1064.png \t 1 test/not_line/7.gettyimages-1094874726.png\n",
      "71 0 test/linha/image1065.png \t 1 test/not_line/80.cat-slider2.png\n",
      "72 0 test/linha/image1066.png \t 1 test/not_line/80.random%20table.png\n",
      "73 0 test/linha/image1067.png \t 1 test/not_line/82.league-of-entropy.png\n",
      "74 0 test/linha/image1068.png \t 1 test/not_line/83.Drops-of-Amazon-Necklace-Design-Arara-Vermelha-300x300.png\n",
      "75 0 test/linha/image1069.png \t 1 test/not_line/84.220px-Random_digits.png\n",
      "76 0 test/linha/image106.png \t 1 test/not_line/84.byd-seuss-one-bo-two-boi-red-boi-blue-boi-35739315.png\n",
      "77 0 test/linha/image1070.png \t 1 test/not_line/85.FIGURA-7-Psittacidae-nao-identificado-talvez-uma-arara-azul-Anodorhynchus-sp.png\n",
      "78 0 test/linha/image1071.png \t 1 test/not_line/89.299834731011211.png\n",
      "79 0 test/linha/image1072.png \t 1 test/not_line/8.random-numbers.png\n"
     ]
    }
   ],
   "source": [
    "dados = popen(\"ls test/porta_aberta/*.png\").read().split(\"\\n\")\n",
    "dados1 = popen(\"ls test/porta_fechada/*.png\").read().split(\"\\n\")\n",
    "\n",
    "for p in range(80):\n",
    "  test_ibage = image.load_img(dados[p], target_size = (64, 64))\n",
    "  test_ibage = image.img_to_array(test_ibage)\n",
    "  test_ibage = np.expand_dims(test_ibage, axis = 0)\n",
    "  result = clf.predict(test_ibage)\n",
    "  test_ibage1 = image.load_img(dados1[p], target_size = (64, 64))\n",
    "  test_ibage1 = image.img_to_array(test_ibage1)\n",
    "  test_ibage1 = np.expand_dims(test_ibage1, axis = 0)\n",
    "  result1 = clf.predict(test_ibage1)  \n",
    "  print(p,int(result[0][0]),dados[p],\"\\t\",int(result1[0][0]),dados1[p])"
   ]
  }
 ],
 "metadata": {
  "accelerator": "GPU",
  "colab": {
   "collapsed_sections": [],
   "name": "model.ipynb",
   "provenance": [],
   "toc_visible": true
  },
  "kernelspec": {
   "display_name": "Python 3",
   "language": "python",
   "name": "python3"
  },
  "language_info": {
   "codemirror_mode": {
    "name": "ipython",
    "version": 3
   },
   "file_extension": ".py",
   "mimetype": "text/x-python",
   "name": "python",
   "nbconvert_exporter": "python",
   "pygments_lexer": "ipython3",
   "version": "3.7.5"
  }
 },
 "nbformat": 4,
 "nbformat_minor": 1
}
